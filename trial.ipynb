{
 "cells": [
  {
   "cell_type": "code",
   "execution_count": 1,
   "id": "91df7d9c",
   "metadata": {},
   "outputs": [],
   "source": [
    "import numpy as np\n",
    "import scipy as sc\n",
    "import matplotlib.pyplot as plt\n"
   ]
  },
  {
   "cell_type": "code",
   "execution_count": 2,
   "id": "c4218321",
   "metadata": {},
   "outputs": [
    {
     "name": "stdout",
     "output_type": "stream",
     "text": [
      "[[1 3 5]\n",
      " [2 5 1]\n",
      " [2 3 8]]\n"
     ]
    }
   ],
   "source": [
    "# Import necessary libraries\n",
    "import numpy as np\n",
    "import scipy as sc\n",
    "# Define the coefficient matrix A\n",
    "A = np.array([[1, 3, 5], [2, 5, 1], [2, 3, 8]])\n",
    "print(A)\n"
   ]
  },
  {
   "cell_type": "code",
   "execution_count": 1,
   "id": "b5d53104",
   "metadata": {},
   "outputs": [
    {
     "name": "stdout",
     "output_type": "stream",
     "text": [
      "The value of y at x is: 3.246255553543053\n"
     ]
    }
   ],
   "source": [
    "# Python program to implement Runge Kutta method\n",
    "# A sample differential equation \"dy / dx = (x - y)/2\"\n",
    "def dydx(x, y):\n",
    "    return ((x - y)/2)\n",
    "\n",
    "# Finds value of y for a given x using step size h\n",
    "# and initial value y0 at x0.\n",
    "def rungeKutta(x0, y0, x, h):\n",
    "    # Count number of iterations using step size or\n",
    "    # step height\n",
    "    n = int((x - x0)/h)\n",
    "    # Iterate for number of iterations\n",
    "    y = y0\n",
    "    for i in range(1, n + 1):\n",
    "        # Apply Runge Kutta Formulas to find next value of y\n",
    "        k1 = h * dydx(x0, y)\n",
    "        k2 = h * dydx(x0 + 0.5 * h, y + 0.5 * k1)\n",
    "        k3 = h * dydx(x0 + 0.5 * h, y + 0.5 * k2)\n",
    "        k4 = h * dydx(x0 + h, y + k3)\n",
    "        \n",
    "        # Update next value of y\n",
    "        y = y + (1.0 / 6.0)*(k1 + 2 * k2 + 2 * k3 + k4)\n",
    "        \n",
    "        # Update next value of x\n",
    "        x0 = x0 + h\n",
    "    return y\n",
    "\n",
    "# Driver method\n",
    "x0 = 0\n",
    "y = 1\n",
    "x = 5\n",
    "h = 0.2\n",
    "print('The value of y at x is:', rungeKutta(x0, y, x, h))\n"
   ]
  },
  {
   "cell_type": "code",
   "execution_count": 2,
   "id": "b8666fc7",
   "metadata": {},
   "outputs": [
    {
     "ename": "NameError",
     "evalue": "name 'odeint' is not defined",
     "output_type": "error",
     "traceback": [
      "\u001b[1;31m---------------------------------------------------------------------------\u001b[0m",
      "\u001b[1;31mNameError\u001b[0m                                 Traceback (most recent call last)",
      "Cell \u001b[1;32mIn[2], line 37\u001b[0m\n\u001b[0;32m     33\u001b[0m t \u001b[38;5;241m=\u001b[39m np\u001b[38;5;241m.\u001b[39mlinspace(\u001b[38;5;241m0\u001b[39m, \u001b[38;5;241m5.\u001b[39m, \u001b[38;5;241m1000\u001b[39m)  \u001b[38;5;66;03m# Time grid for the simulation (0 to 5 days, 1000 points)\u001b[39;00m\n\u001b[0;32m     36\u001b[0m \u001b[38;5;66;03m# Solving the differential equations over time t, starting from initial conditions y0\u001b[39;00m\n\u001b[1;32m---> 37\u001b[0m soln \u001b[38;5;241m=\u001b[39m odeint(f, y0, t)\n\u001b[0;32m     38\u001b[0m S \u001b[38;5;241m=\u001b[39m soln[:, \u001b[38;5;241m0\u001b[39m]  \u001b[38;5;66;03m# Extracting the solution for living\u001b[39;00m\n\u001b[0;32m     39\u001b[0m Z \u001b[38;5;241m=\u001b[39m soln[:, \u001b[38;5;241m1\u001b[39m]  \u001b[38;5;66;03m# Extracting the solution for zombies\u001b[39;00m\n",
      "\u001b[1;31mNameError\u001b[0m: name 'odeint' is not defined"
     ]
    }
   ],
   "source": [
    "# Importing the necessary libraries for numerical computations and plotting\n",
    "\n",
    "import numpy as np\n",
    "import scipy as sc\n",
    "import matplotlib.pyplot as plt\n",
    "\n",
    "# Parameters for the model, representing various rates per day\n",
    "P = 0  # Birth rate (new individuals per day)\n",
    "d = 0.0001  # Natural death percent (probability of dying each day)\n",
    "B = 0.0095  # Transmission percent (probability of a living becoming a zombie each day)\n",
    "G = 0.0001  # Resurrect percent (probability of a dead becoming a zombie each day)\n",
    "A = 0.0001  # Destroy percent (probability of a zombie being destroyed each day)\n",
    "\n",
    "\n",
    "# The system of differential equations: y is the vector of populations, t is time\n",
    "def f(y, t):\n",
    "    Si = y[0]  # Susceptible (living) population\n",
    "    Zi = y[1]  # Zombie population\n",
    "    Ri = y[2]  # Removed (dead) population\n",
    "    # Model equations for the rates of change of each population\n",
    "    f0 = P - B * Si * Zi - d * Si  # Rate of change of living\n",
    "    f1 = B * Si * Zi + G * Ri - A * Si * Zi  # Rate of change of zombies\n",
    "    f2 = d * Si + A * Si * Zi - G * Ri  # Rate of change of dead\n",
    "    return [f0, f1, f2]\n",
    "\n",
    "\n",
    "\n",
    "# Initial conditions for the model\n",
    "S0 = 500.0  # Initial population of living\n",
    "Z0 = 0      # Initial zombie population\n",
    "R0 = 0      # Initial dead population\n",
    "y0 = [S0, Z0, R0]  # Vector of initial conditions\n",
    "t = np.linspace(0, 5., 1000)  # Time grid for the simulation (0 to 5 days, 1000 points)\n",
    "\n",
    "\n",
    "# Solving the differential equations over time t, starting from initial conditions y0\n",
    "soln = odeint(f, y0, t)\n",
    "S = soln[:, 0]  # Extracting the solution for living\n",
    "Z = soln[:, 1]  # Extracting the solution for zombies\n",
    "R = soln[:, 2]  # Extracting the solution for dead\n",
    "\n",
    "# Plotting the results for the initial scenario\n",
    "plt.figure()\n",
    "plt.plot(t, S, label='Living')\n",
    "plt.plot(t, Z, label='Zombies')\n",
    "plt.xlabel('Days from outbreak')\n",
    "plt.ylabel('Population')\n",
    "plt.title('Zombie Apocalypse - No Initial Dead Population; No New Births.')\n",
    "plt.legend(loc=0)\n",
    "plt.show()\n",
    "\n",
    "\n",
    "# Changing the initial conditions for a scenario with 1% initial dead population\n",
    "R0 = 0.01 * S0  # 1% of the initial population is dead\n",
    "y0 = [S0, Z0, R0]  # Updating the initial conditions\n",
    "soln = odeint(f, y0, t)  # Solving the DEs again with new initial conditions\n",
    "S = soln[:, 0]\n",
    "Z = soln[:, 1]\n",
    "R = soln[:, 2]\n",
    "\n",
    "# Plotting the results for the second scenario\n",
    "plt.figure()\n",
    "plt.plot(t, S, label='Living')\n",
    "plt.plot(t, Z, label='Zombies')\n",
    "plt.xlabel('Days from outbreak')\n",
    "plt.ylabel('Population')\n",
    "plt.title('Zombie Apocalypse - 1% Initial Dead Population; No New Births.')\n",
    "plt.legend(loc=0)\n",
    "plt.show()\n",
    "\n",
    "\n",
    "# Updating the parameters for the third scenario with daily births\n",
    "P = 10  # 10 new births daily\n",
    "y0 = [S0, Z0, R0]  # Initial conditions remain the same as the second scenario\n",
    "soln = odeint(f, y0, t)  # Solving the DEs with the new birth rate\n",
    "S = soln[:, 0]\n",
    "Z = soln[:, 1]\n",
    "R = soln[:, 2]\n",
    "\n",
    "# Plotting the results for the third scenario\n",
    "plt.figure()\n",
    "plt.plot(t, S, label='Living')\n",
    "plt.plot(t, Z, label='Zombies')\n",
    "plt.xlabel('Days from outbreak')\n",
    "plt.ylabel('Population')\n",
    "plt.title('Zombie Apocalypse - 1% Initial Dead Population; 10 Daily Births')\n",
    "plt.legend(loc=0)\n",
    "plt.show()\n"
   ]
  }
 ],
 "metadata": {
  "kernelspec": {
   "display_name": "Python 3 (ipykernel)",
   "language": "python",
   "name": "python3"
  },
  "language_info": {
   "codemirror_mode": {
    "name": "ipython",
    "version": 3
   },
   "file_extension": ".py",
   "mimetype": "text/x-python",
   "name": "python",
   "nbconvert_exporter": "python",
   "pygments_lexer": "ipython3",
   "version": "3.11.5"
  }
 },
 "nbformat": 4,
 "nbformat_minor": 5
}
