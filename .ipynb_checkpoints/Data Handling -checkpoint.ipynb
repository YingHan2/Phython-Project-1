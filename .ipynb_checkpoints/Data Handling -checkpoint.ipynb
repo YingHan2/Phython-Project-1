{
 "cells": [
  {
   "cell_type": "markdown",
   "id": "964d9c76",
   "metadata": {},
   "source": [
    "# TXT"
   ]
  },
  {
   "cell_type": "code",
   "execution_count": 1,
   "id": "403079c5",
   "metadata": {},
   "outputs": [
    {
     "name": "stdout",
     "output_type": "stream",
     "text": [
      "Test 1 Test 2\n"
     ]
    }
   ],
   "source": [
    "with open('text.txt', 'r') as file:\n",
    "    content = file.read()\n",
    "    print(content)\n"
   ]
  },
  {
   "cell_type": "code",
   "execution_count": null,
   "id": "fd20479c",
   "metadata": {},
   "outputs": [],
   "source": [
    "with open('output.txt','w')as file:\n",
    "    file.write('Hello,Python!')\n",
    "    file.write('Hello,World!')\n",
    "    #type here will appear at txt    "
   ]
  },
  {
   "cell_type": "code",
   "execution_count": null,
   "id": "c7a8eb24",
   "metadata": {},
   "outputs": [],
   "source": [
    "with open('testing.txt','w')as file:\n",
    "    file.write('Hello,Python!')\n",
    "    file.write('Hello,World!')"
   ]
  },
  {
   "cell_type": "markdown",
   "id": "ada804ee",
   "metadata": {},
   "source": [
    "# CSV"
   ]
  },
  {
   "cell_type": "code",
   "execution_count": 9,
   "id": "3fe605d8",
   "metadata": {},
   "outputs": [
    {
     "name": "stdout",
     "output_type": "stream",
     "text": [
      "['Name', 'Age', 'Grade']\n",
      "['Alice', '21', 'A']\n",
      "['Bob', '22', 'F']\n",
      "['Charlie', '18', 'B']\n",
      "['David', '21', 'A']\n",
      "['Eve', '20', 'A']\n",
      "['Fiona', '18', 'C']\n",
      "['George', '19', 'A']\n",
      "['Hannah', '20', 'C']\n",
      "['Isla', '22', 'A']\n",
      "['Jack', '21', 'B']\n",
      "['Alice', '20', 'C']\n",
      "['Bob', '20', 'C']\n",
      "['Charlie', '18', 'C']\n",
      "['David', '20', 'A']\n",
      "['Eve', '21', 'B']\n",
      "['Fiona', '19', 'C']\n",
      "['George', '18', 'F']\n",
      "['Hannah', '19', 'B']\n",
      "['Isla', '19', 'B']\n",
      "['Jack', '18', 'F']\n",
      "['Alice', '18', 'F']\n",
      "['Bob', '18', 'F']\n",
      "['Charlie', '18', 'C']\n",
      "['David', '18', 'F']\n",
      "['Eve', '20', 'B']\n",
      "['Fiona', '19', 'B']\n",
      "['George', '21', 'D']\n",
      "['Hannah', '19', 'B']\n",
      "['Isla', '19', 'B']\n",
      "['Jack', '18', 'F']\n",
      "['Alice', '19', 'B']\n",
      "['Bob', '20', 'B']\n",
      "['Charlie', '22', 'D']\n",
      "['David', '20', 'C']\n",
      "['Eve', '19', 'A']\n",
      "['Fiona', '20', 'F']\n",
      "['George', '21', 'F']\n",
      "['Hannah', '22', 'F']\n",
      "['Isla', '21', 'F']\n",
      "['Jack', '19', 'F']\n",
      "['Alice', '20', 'C']\n",
      "['Bob', '22', 'F']\n",
      "['Charlie', '21', 'C']\n",
      "['David', '21', 'C']\n",
      "['Eve', '22', 'A']\n",
      "['Fiona', '20', 'B']\n",
      "['George', '20', 'D']\n",
      "['Hannah', '21', 'F']\n",
      "['Isla', '22', 'B']\n",
      "['Jack', '21', 'B']\n",
      "['Alice', '22', 'B']\n",
      "['Bob', '20', 'C']\n",
      "['Charlie', '21', 'A']\n",
      "['David', '22', 'F']\n",
      "['Eve', '19', 'A']\n",
      "['Fiona', '19', 'F']\n",
      "['George', '21', 'D']\n",
      "['Hannah', '20', 'B']\n",
      "['Isla', '18', 'A']\n",
      "['Jack', '18', 'D']\n",
      "['Alice', '18', 'C']\n",
      "['Bob', '20', 'C']\n",
      "['Charlie', '19', 'C']\n",
      "['David', '20', 'F']\n",
      "['Eve', '18', 'D']\n",
      "['Fiona', '22', 'A']\n",
      "['George', '18', 'D']\n",
      "['Hannah', '18', 'C']\n",
      "['Isla', '20', 'B']\n",
      "['Jack', '20', 'F']\n",
      "['Alice', '22', 'A']\n",
      "['Bob', '20', 'F']\n",
      "['Charlie', '22', 'C']\n",
      "['David', '18', 'A']\n",
      "['Eve', '20', 'F']\n",
      "['Fiona', '19', 'A']\n",
      "['George', '18', 'F']\n",
      "['Hannah', '19', 'B']\n",
      "['Isla', '18', 'D']\n",
      "['Jack', '22', 'B']\n",
      "['Alice', '19', 'A']\n",
      "['Bob', '19', 'D']\n",
      "['Charlie', '19', 'A']\n",
      "['David', '20', 'F']\n",
      "['Eve', '19', 'B']\n",
      "['Fiona', '20', 'C']\n",
      "['George', '22', 'A']\n",
      "['Hannah', '19', 'D']\n",
      "['Isla', '19', 'C']\n",
      "['Jack', '21', 'C']\n",
      "['Alice', '18', 'A']\n",
      "['Bob', '19', 'B']\n",
      "['Charlie', '22', 'F']\n",
      "['David', '22', 'A']\n",
      "['Eve', '21', 'C']\n",
      "['Fiona', '19', 'F']\n",
      "['George', '18', 'C']\n",
      "['Hannah', '22', 'F']\n",
      "['Isla', '18', 'F']\n",
      "['Jack', '20', 'D']\n"
     ]
    }
   ],
   "source": [
    "import csv\n",
    "with open('students.csv', 'r') as file:\n",
    "    csv_reader = csv.reader(file)\n",
    "    for row in csv_reader:\n",
    "        print(row)\n"
   ]
  },
  {
   "cell_type": "code",
   "execution_count": 12,
   "id": "5c3304cf",
   "metadata": {},
   "outputs": [
    {
     "name": "stdout",
     "output_type": "stream",
     "text": [
      "A\n",
      "F\n",
      "B\n",
      "A\n",
      "A\n",
      "C\n",
      "A\n",
      "C\n",
      "A\n",
      "B\n",
      "C\n",
      "C\n",
      "C\n",
      "A\n",
      "B\n",
      "C\n",
      "F\n",
      "B\n",
      "B\n",
      "F\n",
      "F\n",
      "F\n",
      "C\n",
      "F\n",
      "B\n",
      "B\n",
      "D\n",
      "B\n",
      "B\n",
      "F\n",
      "B\n",
      "B\n",
      "D\n",
      "C\n",
      "A\n",
      "F\n",
      "F\n",
      "F\n",
      "F\n",
      "F\n",
      "C\n",
      "F\n",
      "C\n",
      "C\n",
      "A\n",
      "B\n",
      "D\n",
      "F\n",
      "B\n",
      "B\n",
      "B\n",
      "C\n",
      "A\n",
      "F\n",
      "A\n",
      "F\n",
      "D\n",
      "B\n",
      "A\n",
      "D\n",
      "C\n",
      "C\n",
      "C\n",
      "F\n",
      "D\n",
      "A\n",
      "D\n",
      "C\n",
      "B\n",
      "F\n",
      "A\n",
      "F\n",
      "C\n",
      "A\n",
      "F\n",
      "A\n",
      "F\n",
      "B\n",
      "D\n",
      "B\n",
      "A\n",
      "D\n",
      "A\n",
      "F\n",
      "B\n",
      "C\n",
      "A\n",
      "D\n",
      "C\n",
      "C\n",
      "A\n",
      "B\n",
      "F\n",
      "A\n",
      "C\n",
      "F\n",
      "C\n",
      "F\n",
      "F\n",
      "D\n"
     ]
    }
   ],
   "source": [
    "import csv\n",
    "with open('students.csv', 'r') as file:\n",
    "    csv_reader = csv.DictReader(file)\n",
    "    for row in csv_reader:\n",
    "        print(row['Grade'])"
   ]
  },
  {
   "cell_type": "code",
   "execution_count": 5,
   "id": "a4bce051",
   "metadata": {},
   "outputs": [],
   "source": [
    "import csv\n",
    "with open('output.csv','w',newline = '')as file:\n",
    "    writer = csv.writer(file)\n",
    "    writer.writerow(['Name','Age'])\n",
    "    writer.writerow(['Alice','30'])"
   ]
  },
  {
   "cell_type": "code",
   "execution_count": 1,
   "id": "c44b9944",
   "metadata": {},
   "outputs": [
    {
     "name": "stdout",
     "output_type": "stream",
     "text": [
      "Filtered data saved to top_students.csv\n"
     ]
    }
   ],
   "source": [
    "import csv\n",
    "\n",
    "input_file = 'students.csv'\n",
    "output_file = 'top_students.csv'\n",
    "\n",
    "with open('students.csv','r')as file:\n",
    "    csv_reader = csv.DictReader(file)\n",
    "    \n",
    "    filtered_data = []\n",
    "    for row in csv_reader:\n",
    "        if row['Grade'] <= 'B':\n",
    "            filtered_data.append(row)\n",
    "    for row in filtered_data:\n",
    "        row['Status'] = 'Passed'\n",
    "\n",
    "header = ['Name','Age', 'Grade', 'Status']\n",
    "\n",
    "output_file = 'top_students.csv'\n",
    "        \n",
    "with open(output_file,'w',newline = '')as file:\n",
    "    writer = csv.DictWriter(file, fieldnames = header)\n",
    "    writer.writeheader()\n",
    "    writer.writerows(filtered_data)\n",
    "\n",
    "print(f\"Filtered data saved to {output_file}\")"
   ]
  },
  {
   "cell_type": "markdown",
   "id": "bddfc83b",
   "metadata": {},
   "source": [
    "# JSON"
   ]
  },
  {
   "cell_type": "code",
   "execution_count": null,
   "id": "54a15d02",
   "metadata": {},
   "outputs": [],
   "source": [
    "import json\n",
    "\n",
    "try:\n",
    "    with open('test.json', 'r', encoding='utf-8') as file:\n",
    "        data = json.load(file)\n",
    "        print(data)\n",
    "except Exception as e:\n",
    "    print(f\"An error occurred: {e}\")\n"
   ]
  },
  {
   "cell_type": "code",
   "execution_count": 24,
   "id": "197071b6",
   "metadata": {},
   "outputs": [
    {
     "name": "stdout",
     "output_type": "stream",
     "text": [
      "State: Johor, Capital: Johor Bahru, Population: 3794000\n",
      "State: Kedah, Capital: Alor Setar, Population: 2194100\n",
      "State: Kelantan, Capital: Kota Bharu, Population: 1928800\n",
      "State: Malacca, Capital: Malacca City, Population: 937500\n",
      "State: Negeri Sembilan, Capital: Seremban, Population: 1129100\n",
      "State: Pahang, Capital: Kuantan, Population: 1684600\n",
      "State: Penang, Capital: George Town, Population: 1774400\n",
      "State: Perak, Capital: Ipoh, Population: 2508900\n",
      "State: Perlis, Capital: Kangar, Population: 255400\n",
      "State: Sabah, Capital: Kota Kinabalu, Population: 3833000\n",
      "State: Sarawak, Capital: Kuching, Population: 2822200\n",
      "State: Selangor, Capital: Shah Alam, Population: 6555400\n",
      "State: Terengganu, Capital: Kuala Terengganu, Population: 1275100\n",
      "State: Kuala Lumpur, Capital: Kuala Lumpur, Population: 1746600\n",
      "State: Labuan, Capital: Victoria, Population: 100100\n",
      "State: Putrajaya, Capital: Putrajaya, Population: 116100\n"
     ]
    }
   ],
   "source": [
    "import requests\n",
    "api_url = \"https://jian.sh/malaysia-api/state/v1/all.json\"\n",
    "response = requests.get(api_url)\n",
    "malaysia_state_data = response.json()\n",
    "for state in malaysia_state_data:\n",
    "    print(f\"State: {state['state']}, Capital: {state['capital']}, Population: {state['population']}\")\n",
    "\n",
    "   "
   ]
  },
  {
   "cell_type": "code",
   "execution_count": null,
   "id": "df10b65a",
   "metadata": {},
   "outputs": [],
   "source": []
  }
 ],
 "metadata": {
  "kernelspec": {
   "display_name": "Python 3 (ipykernel)",
   "language": "python",
   "name": "python3"
  },
  "language_info": {
   "codemirror_mode": {
    "name": "ipython",
    "version": 3
   },
   "file_extension": ".py",
   "mimetype": "text/x-python",
   "name": "python",
   "nbconvert_exporter": "python",
   "pygments_lexer": "ipython3",
   "version": "3.11.5"
  }
 },
 "nbformat": 4,
 "nbformat_minor": 5
}
