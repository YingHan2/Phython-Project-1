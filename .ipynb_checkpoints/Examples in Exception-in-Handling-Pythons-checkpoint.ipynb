{
 "cells": [
  {
   "cell_type": "code",
   "execution_count": 3,
   "id": "81bf8d9d",
   "metadata": {},
   "outputs": [
    {
     "name": "stdout",
     "output_type": "stream",
     "text": [
      "Enter a number: 10\n",
      "30\n"
     ]
    }
   ],
   "source": [
    "number = int(input(\"Enter a number: \"))  \n",
    "\n",
    "a=10\n",
    "b=20\n",
    "\n",
    "print(a+b)\n"
   ]
  },
  {
   "cell_type": "code",
   "execution_count": 4,
   "id": "1a8aef6c",
   "metadata": {},
   "outputs": [
    {
     "name": "stdout",
     "output_type": "stream",
     "text": [
      "The data that u input is not int\n"
     ]
    }
   ],
   "source": [
    "try:x=\"2\"+2\n",
    "  # Code that might raise an exception\n",
    "except:\n",
    "  # Code that runs if the exception occurs\n",
    "\n",
    "   print(\"The data that u input is not int\")\n"
   ]
  },
  {
   "cell_type": "code",
   "execution_count": 8,
   "id": "489c48b1",
   "metadata": {},
   "outputs": [
    {
     "name": "stdout",
     "output_type": "stream",
     "text": [
      "stupid\n"
     ]
    }
   ],
   "source": [
    "try: x=\"abc\"+6\n",
    "except TypeError:\n",
    "    print(\"stupid\")"
   ]
  },
  {
   "cell_type": "code",
   "execution_count": 10,
   "id": "04253387",
   "metadata": {},
   "outputs": [
    {
     "name": "stdout",
     "output_type": "stream",
     "text": [
      "Please enter a valid numberoo\n"
     ]
    },
    {
     "ename": "ValueError",
     "evalue": "invalid literal for int() with base 10: 'oo'",
     "output_type": "error",
     "traceback": [
      "\u001b[1;31m---------------------------------------------------------------------------\u001b[0m",
      "\u001b[1;31mValueError\u001b[0m                                Traceback (most recent call last)",
      "Cell \u001b[1;32mIn[10], line 1\u001b[0m\n\u001b[1;32m----> 1\u001b[0m Number\u001b[38;5;241m=\u001b[39m\u001b[38;5;28mint\u001b[39m(\u001b[38;5;28minput\u001b[39m(\u001b[38;5;124m\"\u001b[39m\u001b[38;5;124mPlease enter a valid number\u001b[39m\u001b[38;5;124m\"\u001b[39m))\n",
      "\u001b[1;31mValueError\u001b[0m: invalid literal for int() with base 10: 'oo'"
     ]
    }
   ],
   "source": [
    "Number=int(input(\"Please enter a valid number\"))"
   ]
  },
  {
   "cell_type": "code",
   "execution_count": 11,
   "id": "1b4b89c5",
   "metadata": {},
   "outputs": [
    {
     "name": "stdout",
     "output_type": "stream",
     "text": [
      "Please enter a valid number12\n"
     ]
    }
   ],
   "source": [
    "Number=int(input(\"Please enter a valid number\"))"
   ]
  },
  {
   "cell_type": "code",
   "execution_count": 13,
   "id": "c9c2056e",
   "metadata": {},
   "outputs": [
    {
     "name": "stdout",
     "output_type": "stream",
     "text": [
      "Please enter a valid numberoo\n",
      "The input data is not a number\n"
     ]
    }
   ],
   "source": [
    "try: \n",
    "    Number=int(input(\"Please enter a valid number\"))\n",
    "except:\n",
    "    print(\"The input data is not a number\")\n",
    "    "
   ]
  },
  {
   "cell_type": "code",
   "execution_count": 20,
   "id": "8bf2a2b7",
   "metadata": {},
   "outputs": [
    {
     "ename": "IndexError",
     "evalue": "list index out of range",
     "output_type": "error",
     "traceback": [
      "\u001b[1;31m---------------------------------------------------------------------------\u001b[0m",
      "\u001b[1;31mIndexError\u001b[0m                                Traceback (most recent call last)",
      "Cell \u001b[1;32mIn[20], line 2\u001b[0m\n\u001b[0;32m      1\u001b[0m my_list \u001b[38;5;241m=\u001b[39m [\u001b[38;5;241m1\u001b[39m,\u001b[38;5;241m2\u001b[39m,\u001b[38;5;241m3\u001b[39m];\n\u001b[1;32m----> 2\u001b[0m my_list[\u001b[38;5;241m3\u001b[39m]\n",
      "\u001b[1;31mIndexError\u001b[0m: list index out of range"
     ]
    }
   ],
   "source": [
    "my_list = [1,2,3];\n",
    "my_list[3] "
   ]
  },
  {
   "cell_type": "code",
   "execution_count": 32,
   "id": "b5a23dae",
   "metadata": {},
   "outputs": [
    {
     "name": "stdout",
     "output_type": "stream",
     "text": [
      "the value exists in the list\n"
     ]
    }
   ],
   "source": [
    "my_list = [1,2,3];\n",
    "try:\n",
    "   my_list[2] \n",
    "   print(\"the value exists in the list\")\n",
    "except:\n",
    "     print(\"the value is not exist\")"
   ]
  },
  {
   "cell_type": "code",
   "execution_count": 38,
   "id": "86e31717",
   "metadata": {},
   "outputs": [
    {
     "ename": "SyntaxError",
     "evalue": "expected '(' (3276591593.py, line 1)",
     "output_type": "error",
     "traceback": [
      "\u001b[1;36m  Cell \u001b[1;32mIn[38], line 1\u001b[1;36m\u001b[0m\n\u001b[1;33m    def example:\u001b[0m\n\u001b[1;37m               ^\u001b[0m\n\u001b[1;31mSyntaxError\u001b[0m\u001b[1;31m:\u001b[0m expected '('\n"
     ]
    }
   ],
   "source": [
    "def example:\n",
    "    try:\n",
    "        number = int(input(\"Enter a number: \"))\n",
    "    except ValueError:\n",
    "        print(\"That's not a number!\")\n",
    "    else:\n",
    "        print(\"You entered a number!\")\n",
    "    finally:\n",
    "        return\"This is executed no matter what!\"\n"
   ]
  },
  {
   "cell_type": "code",
   "execution_count": null,
   "id": "4250bbce",
   "metadata": {},
   "outputs": [],
   "source": [
    "try:\n",
    "    number = int(input(\"Enter a number: \"))\n",
    "except ValueError:\n",
    "    print(\"That's not a number!\")\n",
    "else:\n",
    "    print(\"You entered a number!\")\n",
    "finally:\n",
    "    print(\"This is executed no matter what!\")"
   ]
  },
  {
   "cell_type": "code",
   "execution_count": 40,
   "id": "9d38e464",
   "metadata": {},
   "outputs": [
    {
     "name": "stdout",
     "output_type": "stream",
     "text": [
      "Enter a number: 0\n",
      "Division by zero is not allowed.\n"
     ]
    }
   ],
   "source": [
    "try:\n",
    "    user_input = input(\"Enter a number: \")\n",
    "    result = 1 / int(user_input)\n",
    "    print(result)\n",
    "except ValueError:\n",
    "    print(\"Please enter a valid integer.\")\n",
    "except ZeroDivisionError:\n",
    "    print(\"Division by zero is not allowed.\")\n"
   ]
  },
  {
   "cell_type": "code",
   "execution_count": null,
   "id": "2d3e54fa",
   "metadata": {},
   "outputs": [],
   "source": [
    "def simple_calculator():\n",
    "    \n",
    "    try:\n",
    "        user_input1 = int(input(\"Enter the first number:\"))\n",
    "    except ValueError:\n",
    "        print(\"Please enter a valid number.\")\n",
    "        \n",
    "    try:\n",
    "        user_input2 = int(input(\"Enter the second number:\"))\n",
    "    except ValueError:\n",
    "        print(\"Please enter a valid number\")\n",
    "        \n",
    "    try:\n",
    "        user_input"
   ]
  }
 ],
 "metadata": {
  "kernelspec": {
   "display_name": "Python 3 (ipykernel)",
   "language": "python",
   "name": "python3"
  },
  "language_info": {
   "codemirror_mode": {
    "name": "ipython",
    "version": 3
   },
   "file_extension": ".py",
   "mimetype": "text/x-python",
   "name": "python",
   "nbconvert_exporter": "python",
   "pygments_lexer": "ipython3",
   "version": "3.11.5"
  }
 },
 "nbformat": 4,
 "nbformat_minor": 5
}
