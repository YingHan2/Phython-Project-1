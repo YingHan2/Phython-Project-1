{
 "cells": [
  {
   "cell_type": "markdown",
   "id": "fd1761bc",
   "metadata": {},
   "source": [
    "# add numbers"
   ]
  },
  {
   "cell_type": "code",
   "execution_count": 7,
   "id": "ae8ba97d",
   "metadata": {},
   "outputs": [
    {
     "name": "stdout",
     "output_type": "stream",
     "text": [
      "6\n"
     ]
    }
   ],
   "source": [
    "a=2\n",
    "b=3\n",
    "c=a*b\n",
    "print(c)"
   ]
  },
  {
   "cell_type": "code",
   "execution_count": 7,
   "id": "bb279d0a",
   "metadata": {},
   "outputs": [],
   "source": [
    "def add(a,b):\n",
    "    c=a+b\n",
    "    return c"
   ]
  },
  {
   "cell_type": "code",
   "execution_count": 8,
   "id": "cdc3e519",
   "metadata": {},
   "outputs": [
    {
     "data": {
      "text/plain": [
       "15"
      ]
     },
     "execution_count": 8,
     "metadata": {},
     "output_type": "execute_result"
    }
   ],
   "source": [
    "a=5\n",
    "b=10\n",
    "add(a,b)"
   ]
  },
  {
   "cell_type": "code",
   "execution_count": 12,
   "id": "2850a0d0",
   "metadata": {},
   "outputs": [],
   "source": [
    "def add(a,b):\n",
    "    c=a+b\n",
    "    return c"
   ]
  },
  {
   "cell_type": "code",
   "execution_count": 27,
   "id": "efed3cd1",
   "metadata": {},
   "outputs": [
    {
     "name": "stdout",
     "output_type": "stream",
     "text": [
      "9\n"
     ]
    }
   ],
   "source": [
    "print (add(1,8))"
   ]
  },
  {
   "cell_type": "markdown",
   "id": "d776c682",
   "metadata": {},
   "source": [
    "# Check availability"
   ]
  },
  {
   "cell_type": "code",
   "execution_count": 22,
   "id": "5f4a3d6f",
   "metadata": {},
   "outputs": [],
   "source": [
    "subjects = [\"Chem\",\"Bio\"]\n",
    "\n",
    "def subject_availability(subject_name):\n",
    "    if(is_available(subject_name)):\n",
    "        return \"it is available\"\n",
    "    else:\n",
    "        return \"it is not available\"\n",
    "    \n",
    "def is_available(subject_name):\n",
    "    return subject_name in subjects\n"
   ]
  },
  {
   "cell_type": "code",
   "execution_count": 26,
   "id": "ce8a62f2",
   "metadata": {},
   "outputs": [
    {
     "name": "stdout",
     "output_type": "stream",
     "text": [
      "Please enter a subjectshit\n",
      "it is not available\n"
     ]
    }
   ],
   "source": [
    "input_subject=input(\"Please enter a subject\")\n",
    "print(subject_availability(input_subject))"
   ]
  },
  {
   "cell_type": "markdown",
   "id": "ddfd69c9",
   "metadata": {},
   "source": [
    "# For Loop"
   ]
  },
  {
   "cell_type": "code",
   "execution_count": 28,
   "id": "8a1665ee",
   "metadata": {},
   "outputs": [
    {
     "name": "stdout",
     "output_type": "stream",
     "text": [
      "apple\n",
      "banana\n",
      "cherry\n"
     ]
    }
   ],
   "source": [
    "animals = [\"apple\", \"banana\", \"cherry\"]\n",
    "for animal in animals:\n",
    "    print(animal)\n"
   ]
  },
  {
   "cell_type": "markdown",
   "id": "da8a42dd",
   "metadata": {},
   "source": [
    "# While Loop"
   ]
  },
  {
   "cell_type": "code",
   "execution_count": 31,
   "id": "50e991d0",
   "metadata": {},
   "outputs": [
    {
     "name": "stdout",
     "output_type": "stream",
     "text": [
      "1\n",
      "3\n",
      "5\n",
      "7\n",
      "9\n"
     ]
    }
   ],
   "source": [
    "count = 1\n",
    "#start from 1\n",
    "while count < 10:\n",
    "    print(count)\n",
    "    count += 2\n"
   ]
  },
  {
   "cell_type": "markdown",
   "id": "bd30eff6",
   "metadata": {},
   "source": [
    "# Break"
   ]
  },
  {
   "cell_type": "code",
   "execution_count": 35,
   "id": "3cf8ec72",
   "metadata": {},
   "outputs": [
    {
     "name": "stdout",
     "output_type": "stream",
     "text": [
      "0\n",
      "1\n",
      "2\n",
      "3\n",
      "4\n"
     ]
    }
   ],
   "source": [
    "for num in range(20):\n",
    "    if num == 5:\n",
    "        break\n",
    "    print(num)\n"
   ]
  },
  {
   "cell_type": "markdown",
   "id": "156c5ab1",
   "metadata": {},
   "source": [
    "# Continue"
   ]
  },
  {
   "cell_type": "code",
   "execution_count": 38,
   "id": "b35981ea",
   "metadata": {},
   "outputs": [
    {
     "name": "stdout",
     "output_type": "stream",
     "text": [
      "0\n",
      "1\n",
      "3\n",
      "4\n"
     ]
    }
   ],
   "source": [
    "for num in range(5):\n",
    "    if num == 2:\n",
    "        continue\n",
    "    print(num)\n",
    "#skip a number"
   ]
  },
  {
   "cell_type": "markdown",
   "id": "65b96c01",
   "metadata": {},
   "source": [
    "# Exercise (Even numbers)"
   ]
  },
  {
   "cell_type": "code",
   "execution_count": 6,
   "id": "6fbdd60e",
   "metadata": {},
   "outputs": [
    {
     "name": "stdout",
     "output_type": "stream",
     "text": [
      "2\n",
      "4\n",
      "6\n",
      "8\n",
      "10\n"
     ]
    }
   ],
   "source": [
    "numbers=range(1,11)\n",
    "\n",
    "for num in numbers:\n",
    "    if num % 2 == 0:\n",
    "        print (num)"
   ]
  },
  {
   "cell_type": "markdown",
   "id": "f57845ce",
   "metadata": {},
   "source": [
    "# Multiplication table"
   ]
  },
  {
   "cell_type": "code",
   "execution_count": 7,
   "id": "395e5fbf",
   "metadata": {},
   "outputs": [
    {
     "name": "stdout",
     "output_type": "stream",
     "text": [
      "1 x 1 = 1\n",
      "1 x 2 = 2\n",
      "1 x 3 = 3\n",
      "1 x 4 = 4\n",
      "1 x 5 = 5\n",
      "------\n",
      "2 x 1 = 2\n",
      "2 x 2 = 4\n",
      "2 x 3 = 6\n",
      "2 x 4 = 8\n",
      "2 x 5 = 10\n",
      "------\n",
      "3 x 1 = 3\n",
      "3 x 2 = 6\n",
      "3 x 3 = 9\n",
      "3 x 4 = 12\n",
      "3 x 5 = 15\n",
      "------\n",
      "4 x 1 = 4\n",
      "4 x 2 = 8\n",
      "4 x 3 = 12\n",
      "4 x 4 = 16\n",
      "4 x 5 = 20\n",
      "------\n",
      "5 x 1 = 5\n",
      "5 x 2 = 10\n",
      "5 x 3 = 15\n",
      "5 x 4 = 20\n",
      "5 x 5 = 25\n",
      "------\n"
     ]
    }
   ],
   "source": [
    "for i in range(1, 6):\n",
    "    for j in range(1, 6):\n",
    "        print(i, \"x\", j, \"=\", i * j)\n",
    "    print(\"------\")\n"
   ]
  },
  {
   "cell_type": "markdown",
   "id": "24cfb63f",
   "metadata": {},
   "source": [
    "# Positional Arguments"
   ]
  },
  {
   "cell_type": "code",
   "execution_count": 10,
   "id": "0b0fea9e",
   "metadata": {},
   "outputs": [
    {
     "name": "stdout",
     "output_type": "stream",
     "text": [
      "Alice is enrolled in Mathematics class.\n"
     ]
    }
   ],
   "source": [
    "def student_information(class_name, student_name):\n",
    "    # Display information about a student and their class.\n",
    "    print(student_name + \" is enrolled in \" + class_name + \" class.\")\n",
    "# Positional arguments:\n",
    "student_information('Mathematics', 'Alice')\n"
   ]
  },
  {
   "cell_type": "markdown",
   "id": "876e2068",
   "metadata": {},
   "source": [
    "# Keyword Arguments "
   ]
  },
  {
   "cell_type": "code",
   "execution_count": 11,
   "id": "c1804443",
   "metadata": {},
   "outputs": [
    {
     "name": "stdout",
     "output_type": "stream",
     "text": [
      "Alice is enrolled in Mathematics class.\n"
     ]
    }
   ],
   "source": [
    "def student_information(class_name, student_name):\n",
    "    # Display information about a student and their class.\n",
    "    print(student_name + \" is enrolled in \" + class_name + \" class.\")\n",
    "# Keyword arguments:\n",
    "student_information(class_name='Mathematics', student_name='Alice')\n"
   ]
  },
  {
   "cell_type": "markdown",
   "id": "aa068cf8",
   "metadata": {},
   "source": [
    "# Default Arguments"
   ]
  },
  {
   "cell_type": "code",
   "execution_count": 17,
   "id": "5bc71390",
   "metadata": {},
   "outputs": [
    {
     "name": "stdout",
     "output_type": "stream",
     "text": [
      "Student Name: Lina\n",
      "Enrolled Course: Introduction to Python\n"
     ]
    }
   ],
   "source": [
    "def enroll_student(student_name, course='Introduction to Python'):\n",
    "    # Enroll a student in a course with a default option.\n",
    "     print(\"Student Name: \" + student_name)\n",
    "     print(\"Enrolled Course: \" + course)\n",
    "enroll_student(student_name='Lina')\n"
   ]
  },
  {
   "cell_type": "code",
   "execution_count": 19,
   "id": "f01ae90f",
   "metadata": {},
   "outputs": [
    {
     "name": "stdout",
     "output_type": "stream",
     "text": [
      "Student Name: Sara\n",
      "Enrolled Course: Data Structures\n"
     ]
    }
   ],
   "source": [
    "enroll_student(student_name='Sara', course='Data Structures')\n",
    "\n"
   ]
  },
  {
   "cell_type": "markdown",
   "id": "a294503b",
   "metadata": {},
   "source": [
    "#  Variable-Length"
   ]
  },
  {
   "cell_type": "code",
   "execution_count": 20,
   "id": "7283a05a",
   "metadata": {},
   "outputs": [
    {
     "name": "stdout",
     "output_type": "stream",
     "text": [
      "Student: Emily\n",
      "Enrolled in:\n",
      "- Biology 101\n",
      "- Chemistry 101\n",
      "- Physics 101\n"
     ]
    }
   ],
   "source": [
    "def enroll_in_courses(student_name, *courses):\n",
    "    # Enroll a student in multiple courses.\n",
    "    print(\"Student: \" + student_name)\n",
    "    print(\"Enrolled in:\")\n",
    "    for course in courses:\n",
    "        print(\"- \" + course)\n",
    "# Example of enrolling a student in three different courses:\n",
    "enroll_in_courses('Emily', 'Biology 101', 'Chemistry 101', 'Physics 101')\n"
   ]
  },
  {
   "cell_type": "markdown",
   "id": "6ab02778",
   "metadata": {},
   "source": [
    "# Library Books"
   ]
  },
  {
   "cell_type": "code",
   "execution_count": 23,
   "id": "59af47e5",
   "metadata": {},
   "outputs": [],
   "source": [
    "def checkout_books(librarian_name, *book_titles, special_conditions, checkout_duration ='2 weeks', **details):\n",
    "    print(\"Checkout Processed by:\" + librarian_name) \n",
    "    \n",
    "    print(\"Books checked out:\")\n",
    "    for book in book_titles:\n",
    "        print('-' + book)\n",
    "        \n",
    "    print(\"Checkout Duration:\" +  '3 weeks')\n",
    "    \n",
    "    print(\"Additional Checkout Details:\")\n",
    "    for detail, value in details.items():\n",
    "        print(\"- \" + detail.replace('_', ' ').title() + \": \" + str(value))\n",
    "        \n",
    "    print(\"Special Conditions for Checkout:\")\n",
    "    print(\"-\"+special_conditions)\n",
    "    "
   ]
  },
  {
   "cell_type": "code",
   "execution_count": 24,
   "id": "1e727ec7",
   "metadata": {},
   "outputs": [
    {
     "name": "stdout",
     "output_type": "stream",
     "text": [
      "Checkout Processed by:Sarah Connor\n",
      "Books checked out:\n",
      "-1984\n",
      "-Brave New World\n",
      "Checkout Duration:3 weeks\n",
      "Additional Checkout Details:\n",
      "- Late Fee: $0.25\n",
      "- Renewals Allowed: 2\n",
      "Special Conditions for Checkout:\n",
      "-Handle with care\n"
     ]
    }
   ],
   "source": [
    "checkout_books('Sarah Connor', '1984', 'Brave New World', checkout_duration= '3 weeks', Late_fee='$0.25', Renewals_Allowed='2', special_conditions= 'Handle with care')"
   ]
  },
  {
   "cell_type": "markdown",
   "id": "ab3c4892",
   "metadata": {},
   "source": [
    "# Calculator"
   ]
  },
  {
   "cell_type": "code",
   "execution_count": 3,
   "id": "657a2afc",
   "metadata": {},
   "outputs": [],
   "source": [
    "def simple_calculator():\n",
    "    \n",
    "    try:\n",
    "        user_input1 = int(input(\"Enter the first number:\"))\n",
    "    except ValueError:\n",
    "        print(\"Please enter a valid number.\")\n",
    "        \n",
    "    try:\n",
    "        user_input2 = int(input(\"Enter the second number:\"))\n",
    "    except ValueError:\n",
    "        print(\"Please enter a valid number\")\n",
    "        \n",
    "    try:\n",
    "        user_input3 = input(\"Please choose a mathematical operation: addition, subtraction, multiplication or division:\")\n",
    "        if user_input3==\"addition\":\n",
    "            result=user_input1+user_input2\n",
    "            \n",
    "        elif user_input3==\"subtraction\":\n",
    "            result=user_input1-user_input2\n",
    "            \n",
    "        elif user_input3==\"multiplication\":\n",
    "            result=user_input1+user_input2\n",
    "            \n",
    "        elif user_input3==\"division\":\n",
    "            try:\n",
    "                result=user_input1/user_input2\n",
    "            except ZeroDivisionError:\n",
    "                print(\"Division by zero is not allowed.\")\n",
    "        return result\n",
    "    except:\n",
    "        print(\"Please enter a valid mathematical operation.\")"
   ]
  },
  {
   "cell_type": "code",
   "execution_count": 4,
   "id": "84b46085",
   "metadata": {},
   "outputs": [
    {
     "name": "stdout",
     "output_type": "stream",
     "text": [
      "Enter the first number:1\n",
      "Enter the second number:2\n",
      "Please choose a mathematical operation: addition, subtraction, multiplication or division:addition\n",
      "3\n"
     ]
    }
   ],
   "source": [
    "print(simple_calculator())"
   ]
  },
  {
   "cell_type": "markdown",
   "id": "a772498e",
   "metadata": {},
   "source": [
    "# Value error"
   ]
  },
  {
   "cell_type": "code",
   "execution_count": 1,
   "id": "958fbb39",
   "metadata": {},
   "outputs": [
    {
     "name": "stdout",
     "output_type": "stream",
     "text": [
      "Enter a number: 1\n",
      "You entered a number!\n",
      "This is executed no matter what!\n"
     ]
    }
   ],
   "source": [
    "try:\n",
    "    number = int(input(\"Enter a number: \"))\n",
    "except ValueError:\n",
    "    print(\"That's not a number!\")\n",
    "else:\n",
    "    print(\"You entered a number!\")\n",
    "finally:\n",
    "    print(\"This is executed no matter what!\")\n"
   ]
  },
  {
   "cell_type": "code",
   "execution_count": 2,
   "id": "8343a6f8",
   "metadata": {},
   "outputs": [
    {
     "name": "stdout",
     "output_type": "stream",
     "text": [
      "Enter a number: 5\n",
      "0.2\n"
     ]
    }
   ],
   "source": [
    "try:\n",
    "    user_input = input(\"Enter a number: \")\n",
    "    result = 1 / int(user_input)\n",
    "    print(result)\n",
    "except ValueError:\n",
    "    print(\"Please enter a valid integer.\")\n",
    "except ZeroDivisionError:\n",
    "    print(\"Division by zero is not allowed.\")\n"
   ]
  },
  {
   "cell_type": "markdown",
   "id": "eb5e4b66",
   "metadata": {},
   "source": [
    "# Graph"
   ]
  },
  {
   "cell_type": "code",
   "execution_count": 4,
   "id": "19fd134b",
   "metadata": {},
   "outputs": [
    {
     "data": {
      "image/png": "[encoded data removed]",
      "text/plain": [
       "<Figure size 640x480 with 1 Axes>"
      ]
     },
     "metadata": {},
     "output_type": "display_data"
    }
   ],
   "source": [
    "import math\n",
    "from matplotlib import pyplot as plt\n",
    "\n",
    "x = list(range(0, 10))\n",
    "y = [math.pow(num, 2) for num in x]\n",
    "plt.plot(x, y, color='red')\n",
    "plt.title('Simple Line Plot')\n",
    "plt.xlabel('X Values from 0 to 9')\n",
    "plt.ylabel('Squared Values')\n",
    "plt.show()\n"
   ]
  },
  {
   "cell_type": "code",
   "execution_count": 5,
   "id": "cf79e294",
   "metadata": {},
   "outputs": [
    {
     "data": {
      "image/png": "[encoded data removed]",
      "text/plain": [
       "<Figure size 1000x400 with 2 Axes>"
      ]
     },
     "metadata": {},
     "output_type": "display_data"
    }
   ],
   "source": [
    "from matplotlib import pyplot as plt\n",
    "\n",
    "x = list(range(0, 10))\n",
    "y1 = [math.pow(num, 2) for num in x]\n",
    "y2 = [math.pow(num, 3) for num in x]\n",
    "\n",
    "# Create subplots\n",
    "fig, (ax1, ax2) = plt.subplots(1, 2, figsize=(10, 4))\n",
    "\n",
    "# Plot on the first subplot\n",
    "ax1.plot(x, y1, color='red')\n",
    "ax1.set_title('Squared Values')\n",
    "ax1.set_xlabel('Base Numbers')\n",
    "ax1.set_ylabel('Squared Values')\n",
    "\n",
    "# Plot on the second subplot\n",
    "ax2.plot(x, y2, color='blue')\n",
    "ax2.set_title('Cubed Values')\n",
    "ax2.set_xlabel('Base Numbers')\n",
    "ax2.set_ylabel('Cubed Values')\n",
    "\n",
    "plt.show()\n"
   ]
  },
  {
   "cell_type": "code",
   "execution_count": 6,
   "id": "9e750643",
   "metadata": {},
   "outputs": [
    {
     "data": {
      "image/png": "[encoded data removed]",
      "text/plain": [
       "<Figure size 640x480 with 1 Axes>"
      ]
     },
     "metadata": {},
     "output_type": "display_data"
    }
   ],
   "source": [
    "# Create the plot\n",
    "plt.plot(x, y1, color='red', label='Squared Values')\n",
    "plt.plot(x, y2, color='blue', label='Cubed Values')\n",
    "\n",
    "# Adding title and axis labels\n",
    "plt.title('Squared and Cubed Values')\n",
    "plt.xlabel('Base Numbers')\n",
    "plt.ylabel('Values')\n",
    "\n",
    "# Adding the legend\n",
    "plt.legend()\n",
    "\n",
    "# Display the plot\n",
    "plt.show()\n"
   ]
  },
  {
   "cell_type": "markdown",
   "id": "33bdd19e",
   "metadata": {},
   "source": [
    "# Simultaneous eq"
   ]
  },
  {
   "cell_type": "code",
   "execution_count": 7,
   "id": "84a252c2",
   "metadata": {},
   "outputs": [
    {
     "name": "stdout",
     "output_type": "stream",
     "text": [
      "[[1 3 5]\n",
      " [2 5 1]\n",
      " [2 3 8]]\n"
     ]
    }
   ],
   "source": [
    "# Import necessary libraries\n",
    "import numpy as np\n",
    "import scipy as sc\n",
    "# Define the coefficient matrix A\n",
    "A = np.array([[1, 3, 5], [2, 5, 1], [2, 3, 8]])\n",
    "print(A)\n"
   ]
  },
  {
   "cell_type": "code",
   "execution_count": 8,
   "id": "2dd63520",
   "metadata": {},
   "outputs": [
    {
     "name": "stdout",
     "output_type": "stream",
     "text": [
      "[[10]\n",
      " [ 8]\n",
      " [ 3]]\n",
      "[[-9.28]\n",
      " [ 5.16]\n",
      " [ 0.76]]\n",
      "[[-9.28]\n",
      " [ 5.16]\n",
      " [ 0.76]]\n"
     ]
    }
   ],
   "source": [
    "# Define the right-hand side vector b\n",
    "b = np.array([[10], [8], [3]])\n",
    "print(b)\n",
    "# Calculate the inverse of A and multiply by b to find the solution vector\n",
    "C = sc.linalg.inv(A).dot(b)\n",
    "print(C)\n",
    "# Alternatively, use the solve function to find the solution vector directly\n",
    "D = sc.linalg.solve(A, b)\n",
    "print(D)\n"
   ]
  },
  {
   "cell_type": "code",
   "execution_count": 9,
   "id": "113a5eae",
   "metadata": {},
   "outputs": [],
   "source": [
    "import numpy as np\n",
    "from scipy.linalg import solve\n",
    "# Coefficients matrix\n",
    "A = np.array([[3, 2],\n",
    "              [1, 2]])\n",
    "# Constants vector\n",
    "b = np.array([1, 0])\n"
   ]
  },
  {
   "cell_type": "code",
   "execution_count": 10,
   "id": "fddd1c57",
   "metadata": {},
   "outputs": [
    {
     "data": {
      "text/plain": [
       "array([ 0.5 , -0.25])"
      ]
     },
     "execution_count": 10,
     "metadata": {},
     "output_type": "execute_result"
    }
   ],
   "source": [
    "# Using the solve function to find the solution to the system of equations\n",
    "solution = solve(A, b)\n",
    "solution\n"
   ]
  },
  {
   "cell_type": "markdown",
   "id": "a7738b06",
   "metadata": {},
   "source": [
    "#  Runge Kutta"
   ]
  },
  {
   "cell_type": "code",
   "execution_count": 11,
   "id": "daecc31b",
   "metadata": {},
   "outputs": [
    {
     "name": "stdout",
     "output_type": "stream",
     "text": [
      "25\n",
      "1\n",
      "2\n",
      "3\n",
      "4\n",
      "5\n",
      "6\n",
      "7\n",
      "8\n",
      "9\n",
      "10\n",
      "11\n",
      "12\n",
      "13\n",
      "14\n",
      "15\n",
      "16\n",
      "17\n",
      "18\n",
      "19\n",
      "20\n",
      "21\n",
      "22\n",
      "23\n",
      "24\n",
      "25\n",
      "The value of y at x is: 3.2462555535430524\n"
     ]
    }
   ],
   "source": [
    "# Python program to implement Runge Kutta method\n",
    "# A sample differential equation \"dy / dx = (x - y)/2\"\n",
    "def dydx(x, y):\n",
    "    return ((x - y)/2)\n",
    "\n",
    "# Finds value of y for a given x using step size h\n",
    "# and initial value y0 at x0.\n",
    "def rungeKutta(x0, y0, x, h):\n",
    "    # Count number of iterations using step size or\n",
    "    # step height\n",
    "    n = int((x - x0)/h)\n",
    "    print(n)\n",
    "    # Iterate for number of iterations\n",
    "    y = y0\n",
    "    for i in range(1, n + 1):\n",
    "        print(i)\n",
    "        # Apply Runge Kutta Formulas to find next value of y\n",
    "        k1 = dydx(x0, y)\n",
    "        k2 = dydx(x0 + 0.5 * h, y + 0.5 * h * k1)\n",
    "        k3 = dydx(x0 + 0.5 * h, y + 0.5 * h * k2)\n",
    "        k4 = dydx(x0 + h, y + k3 * h)\n",
    "        \n",
    "        # Update next value of y\n",
    "        y = y + (1.0 / 6.0)*h*(k1 + 2 * k2 + 2 * k3 + k4)\n",
    "        \n",
    "        # Update next value of x\n",
    "        x0 = x0 + h\n",
    "    return y\n",
    "\n",
    "# Driver method\n",
    "x0 = 0\n",
    "y = 1\n",
    "x = 5\n",
    "h = 0.2\n",
    "print('The value of y at x is:', rungeKutta(x0, y, x, h))"
   ]
  }
 ],
 "metadata": {
  "kernelspec": {
   "display_name": "Python 3 (ipykernel)",
   "language": "python",
   "name": "python3"
  },
  "language_info": {
   "codemirror_mode": {
    "name": "ipython",
    "version": 3
   },
   "file_extension": ".py",
   "mimetype": "text/x-python",
   "name": "python",
   "nbconvert_exporter": "python",
   "pygments_lexer": "ipython3",
   "version": "3.11.5"
  }
 },
 "nbformat": 4,
 "nbformat_minor": 5
}
