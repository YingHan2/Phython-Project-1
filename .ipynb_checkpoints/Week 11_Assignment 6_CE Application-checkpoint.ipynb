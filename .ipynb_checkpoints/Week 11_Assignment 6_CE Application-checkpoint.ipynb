{
 "cells": [
  {
   "cell_type": "code",
   "execution_count": 8,
   "id": "61492b10",
   "metadata": {},
   "outputs": [
    {
     "name": "stdout",
     "output_type": "stream",
     "text": [
      "-0.68\n"
     ]
    }
   ],
   "source": [
    "class System:\n",
    "    def __init__(self, T_init, T_final, volume, r, t_end, T_env, t_0, dt):\n",
    "        self.T_init = T_init\n",
    "        self.T_final = T_final\n",
    "        self.volume = volume\n",
    "        self.r = r\n",
    "        self.t_end = t_end\n",
    "        self.T_env = T_env\n",
    "        self.t_0 = t_0\n",
    "        self.dt = dt\n",
    "\n",
    "def make_system(T_init, volume, r, t_end):\n",
    "    return System(T_init=T_init,\n",
    "                  T_final=T_init,\n",
    "                  volume=volume,\n",
    "                  r=r,\n",
    "                  t_end=t_end,\n",
    "                  T_env=22,\n",
    "                  t_0=0,\n",
    "                  dt=1)\n",
    "\n",
    "coffee = make_system(T_init=90, volume=300, r=0.01, t_end=30)\n",
    "\n",
    "def change_func(t, T, system):\n",
    "    r, T_env, dt = system.r, system.T_env, system.dt    \n",
    "    return -r * (T - T_env) * dt\n",
    "\n",
    "result = change_func(0, coffee.T_init, coffee)\n",
    "print(result)\n"
   ]
  }
 ],
 "metadata": {
  "kernelspec": {
   "display_name": "Python 3 (ipykernel)",
   "language": "python",
   "name": "python3"
  },
  "language_info": {
   "codemirror_mode": {
    "name": "ipython",
    "version": 3
   },
   "file_extension": ".py",
   "mimetype": "text/x-python",
   "name": "python",
   "nbconvert_exporter": "python",
   "pygments_lexer": "ipython3",
   "version": "3.11.5"
  }
 },
 "nbformat": 4,
 "nbformat_minor": 5
}
