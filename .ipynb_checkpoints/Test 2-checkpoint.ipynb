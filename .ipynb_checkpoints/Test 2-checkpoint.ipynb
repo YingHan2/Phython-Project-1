{
 "cells": [
  {
   "cell_type": "code",
   "execution_count": 4,
   "id": "a3e3e079",
   "metadata": {},
   "outputs": [],
   "source": [
    "#Python program to implement Runge Kutta method\n",
    "#A sample differential equation \"dy / dt\" = -2*y*t\n",
    "def dydt(y,t):\n",
    "    return -2*y*t\n",
    "\n",
    "#Find value of y for a given t using step size h\n",
    "#and initial value y0 at t0.\n",
    "def rungeKutta(t0,y0,t,h):\n",
    "    #Count number of iterations using step size or\n",
    "    #step height\n",
    "    n = int((t-t0)/h)\n",
    "    #Iterate number of iterations\n",
    "    y=y0\n",
    "    for i in range(1,n+1):\n",
    "        #Apply Runge Kutta Formulas to find next value of y\n",
    "        k1 = dydt(t0,y)\n",
    "        k2 = dydt(t0 + 0.5 * h, y + 0.5 * h * k1)\n",
    "        k3 = dydt(t0 + 0.5 * h, y + 0.5 * h * k2)\n",
    "        k4 = dydt(t0 + h, y + k3 * h)\n",
    "        \n",
    "        #Update next value of y\n",
    "        y= y+(1.0/6.0)*h*(k1 + 2 * k2 + 2 * k3 + k4)\n",
    "        \n",
    "        #Update next value of t\n",
    "        t0 = t0 + h\n",
    "    return t"
   ]
  },
  {
   "cell_type": "code",
   "execution_count": 6,
   "id": "d693db46",
   "metadata": {},
   "outputs": [
    {
     "name": "stdout",
     "output_type": "stream",
     "text": [
      "The value of y at t is: 2\n"
     ]
    }
   ],
   "source": [
    "#Driver method\n",
    "t0 = 0\n",
    "y = 1\n",
    "t = 2\n",
    "h = 1\n",
    "print('The value of y at t is:', rungeKutta(t0, y, t, h))"
   ]
  },
  {
   "cell_type": "code",
   "execution_count": 9,
   "id": "3f1cf327",
   "metadata": {},
   "outputs": [
    {
     "ename": "TypeError",
     "evalue": "'int' object is not callable",
     "output_type": "error",
     "traceback": [
      "\u001b[1;31m---------------------------------------------------------------------------\u001b[0m",
      "\u001b[1;31mTypeError\u001b[0m                                 Traceback (most recent call last)",
      "Cell \u001b[1;32mIn[9], line 5\u001b[0m\n\u001b[0;32m      2\u001b[0m \u001b[38;5;28;01mfrom\u001b[39;00m \u001b[38;5;21;01mmatplotlib\u001b[39;00m \u001b[38;5;28;01mimport\u001b[39;00m pyplot \u001b[38;5;28;01mas\u001b[39;00m plt\n\u001b[0;32m      4\u001b[0m t \u001b[38;5;241m=\u001b[39m \u001b[38;5;28mlist\u001b[39m (\u001b[38;5;28mrange\u001b[39m(\u001b[38;5;241m0\u001b[39m,\u001b[38;5;241m3\u001b[39m))\n\u001b[1;32m----> 5\u001b[0m y(t) \u001b[38;5;241m==\u001b[39m [math\u001b[38;5;241m.\u001b[39mpow(y\u001b[38;5;241m+\u001b[39m(\u001b[38;5;241m1.0\u001b[39m\u001b[38;5;241m/\u001b[39m\u001b[38;5;241m6.0\u001b[39m)\u001b[38;5;241m*\u001b[39mh\u001b[38;5;241m*\u001b[39m(k1 \u001b[38;5;241m+\u001b[39m \u001b[38;5;241m2\u001b[39m \u001b[38;5;241m*\u001b[39m k2 \u001b[38;5;241m+\u001b[39m \u001b[38;5;241m2\u001b[39m \u001b[38;5;241m*\u001b[39m k3 \u001b[38;5;241m+\u001b[39m k4)) \u001b[38;5;28;01mfor\u001b[39;00m num \u001b[38;5;129;01min\u001b[39;00m x]\n\u001b[0;32m      6\u001b[0m plt\u001b[38;5;241m.\u001b[39mplot(t, y(t))\n\u001b[0;32m      7\u001b[0m plt\u001b[38;5;241m.\u001b[39mtitle(\u001b[38;5;124m'\u001b[39m\u001b[38;5;124mODE\u001b[39m\u001b[38;5;124m'\u001b[39m)\n",
      "\u001b[1;31mTypeError\u001b[0m: 'int' object is not callable"
     ]
    }
   ],
   "source": [
    "import math\n",
    "from matplotlib import pyplot as plt\n",
    "\n",
    "t = list (range(0,3))\n",
    "y(t) == [math.pow(y+(1.0/6.0)*h*(k1 + 2 * k2 + 2 * k3 + k4)) for num in x]\n",
    "plt.plot(t, y(t))\n",
    "plt.title('ODE')\n",
    "plt.tlabel('T Values from 0 to 2')\n",
    "plt.ylabel('Values')\n",
    "plt.show"
   ]
  },
  {
   "cell_type": "markdown",
   "id": "0d431192",
   "metadata": {},
   "source": [
    "# Q2"
   ]
  },
  {
   "cell_type": "code",
   "execution_count": 15,
   "id": "c99bf98d",
   "metadata": {},
   "outputs": [
    {
     "name": "stdout",
     "output_type": "stream",
     "text": [
      "[[2 4 6]\n",
      " [5 3 2]\n",
      " [7 8 9]]\n",
      "[[18]\n",
      " [13]\n",
      " [30]]\n",
      "[[ 4.5]\n",
      " [-7.5]\n",
      " [ 6.5]]\n",
      "[[ 4.5]\n",
      " [-7.5]\n",
      " [ 6.5]]\n"
     ]
    }
   ],
   "source": [
    "# Import necessary libraries\n",
    "import numpy as np\n",
    "import scipy as sc\n",
    "#Define the coefficient matrix A\n",
    "A = np.array([[2, 4, 6], [5, 3, 2], [7, 8, 9]])\n",
    "print (A)\n",
    "#Define the right-hand side vector b\n",
    "B = np.array([[18], [13], [30]])\n",
    "print (B)\n",
    "# Calculate the inverse of A and multiply by b to find the solution vector\n",
    "C = sc.linalg.inv(A).dot(B)\n",
    "print(C)\n",
    "# Alternatively, use the solve function to find the solution vector directly\n",
    "D = sc.linalg.solve(A,B)\n",
    "print(D)"
   ]
  }
 ],
 "metadata": {
  "kernelspec": {
   "display_name": "Python 3 (ipykernel)",
   "language": "python",
   "name": "python3"
  },
  "language_info": {
   "codemirror_mode": {
    "name": "ipython",
    "version": 3
   },
   "file_extension": ".py",
   "mimetype": "text/x-python",
   "name": "python",
   "nbconvert_exporter": "python",
   "pygments_lexer": "ipython3",
   "version": "3.11.5"
  }
 },
 "nbformat": 4,
 "nbformat_minor": 5
}
