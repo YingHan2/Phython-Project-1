{
 "cells": [
  {
   "cell_type": "code",
   "execution_count": 13,
   "id": "ddd133d5",
   "metadata": {},
   "outputs": [],
   "source": [
    "def checkout_books(librarian_name, *book_titles, special_conditions, checkout_duration ='2 weeks', **details):\n",
    "    print(\"Checkout Processed by:\" + librarian_name) \n",
    "    \n",
    "    print(\"Books checked out:\")\n",
    "    for book in book_titles:\n",
    "        print('-' + book)\n",
    "        \n",
    "    print(\"Checkout Duration:\" +  '3 weeks')\n",
    "    \n",
    "    print(\"Additional Checkout Details:\")\n",
    "    for detail, value in details.items():\n",
    "        print(\"- \" + detail.replace('_', ' ').title() + \": \" + str(value))\n",
    "        \n",
    "    print(\"Special Conditions for Checkout:\")\n",
    "    print(\"-\"+special_conditions)\n",
    "    "
   ]
  },
  {
   "cell_type": "code",
   "execution_count": 14,
   "id": "2fc916f7",
   "metadata": {},
   "outputs": [
    {
     "name": "stdout",
     "output_type": "stream",
     "text": [
      "Checkout Processed by:Sarah Connor\n",
      "Books checked out:\n",
      "-1984\n",
      "-Brave New World\n",
      "Checkout Duration:3 weeks\n",
      "Additional Checkout Details:\n",
      "- Late Fee: $0.25\n",
      "- Renewals Allowed: 2\n",
      "Special Conditions for Checkout:\n",
      "-Handle with care\n"
     ]
    }
   ],
   "source": [
    "checkout_books('Sarah Connor', '1984', 'Brave New World', checkout_duration= '3 weeks', Late_fee='$0.25', Renewals_Allowed='2', special_conditions= 'Handle with care')"
   ]
  }
 ],
 "metadata": {
  "kernelspec": {
   "display_name": "Python 3 (ipykernel)",
   "language": "python",
   "name": "python3"
  },
  "language_info": {
   "codemirror_mode": {
    "name": "ipython",
    "version": 3
   },
   "file_extension": ".py",
   "mimetype": "text/x-python",
   "name": "python",
   "nbconvert_exporter": "python",
   "pygments_lexer": "ipython3",
   "version": "3.11.5"
  }
 },
 "nbformat": 4,
 "nbformat_minor": 5
}
